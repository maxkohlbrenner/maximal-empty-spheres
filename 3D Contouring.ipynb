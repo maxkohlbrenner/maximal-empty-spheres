{
 "cells": [
  {
   "cell_type": "code",
   "execution_count": null,
   "id": "c59cc3f1",
   "metadata": {},
   "outputs": [],
   "source": [
    "import numpy as np"
   ]
  },
  {
   "cell_type": "code",
   "execution_count": null,
   "id": "1b2ee176",
   "metadata": {},
   "outputs": [],
   "source": [
    "import os\n",
    "# Download the Armadillo from github\n",
    "mesh_path = \"armadillo.obj\"\n",
    "if not os.path.exists(mesh_path):\n",
    "    import wget\n",
    "    url = 'https://raw.githubusercontent.com/alecjacobson/common-3d-test-models/refs/heads/master/data/armadillo.obj'\n",
    "    filename = wget.download(url)\n",
    "    print()\n",
    "    print(filename)\n",
    "else:\n",
    "    print(\"Found .obj file\")\n",
    "    \n",
    "def sample_positions(n, random_sampling, sdf):\n",
    "    if random_sampling:\n",
    "        U = (np.random.rand(n*n*n, 3)-0.5)*2\n",
    "    else:\n",
    "        gx, gy, gz = np.meshgrid(np.linspace(-1.0, 1.0, n+1), np.linspace(-1.0, 1.0, n+1), np.linspace(-1.0, 1.0, n+1))\n",
    "        U = np.vstack((gx.flatten(), gy.flatten(), gz.flatten())).T\n",
    "    U_sdfvals = sdf(U)\n",
    "    return U, U_sdfvals"
   ]
  },
  {
   "cell_type": "code",
   "execution_count": null,
   "id": "40c83c0c",
   "metadata": {},
   "outputs": [],
   "source": [
    "import gpytoolbox as gpy\n",
    "\n",
    "# Set up gt\n",
    "V_gt, F_gt = gpy.read_mesh(mesh_path)\n",
    "V_gt = gpy.normalize_points(V_gt)\n",
    "\n",
    "s = 0.9 # 0.75\n",
    "V_gt *= s/0.5\n",
    "\n",
    "# Create and abstract SDF function that is the only connection to the shape\n",
    "sdf = lambda x: gpy.signed_distance(x, V_gt, F_gt)[0]"
   ]
  },
  {
   "cell_type": "code",
   "execution_count": null,
   "id": "174cb653",
   "metadata": {},
   "outputs": [],
   "source": [
    "n = 30\n",
    "\n",
    "# Sample SDF values on a regular grid\n",
    "U, U_sdfvals = sample_positions(n,False,sdf)"
   ]
  },
  {
   "cell_type": "code",
   "execution_count": null,
   "id": "5018df3d",
   "metadata": {},
   "outputs": [],
   "source": [
    "import time\n",
    "\n",
    "# RFTA\n",
    "strt = time.time()\n",
    "R = gpy.reach_for_the_arcs(U, U_sdfvals,parallel=True)\n",
    "stp  = time.time()\n",
    "print(f\"RFTA (parallel): {stp-strt}s\")"
   ]
  },
  {
   "cell_type": "code",
   "execution_count": null,
   "id": "ebea93c9",
   "metadata": {},
   "outputs": [],
   "source": [
    "from lie_cone import LieConeSDFReconstruction\n",
    "\n",
    "strt = time.time()\n",
    "cone = LieConeSDFReconstruction(np.concatenate([U,U_sdfvals[:,None]],axis=1),\n",
    "                                    filter_type=3,cut_bbx_factor=1.,filter_results=False)\n",
    "\n",
    "stp  = time.time()\n",
    "print(f\"Empty spheres rec: {stp-strt}s\")\n",
    "\n",
    "R_lc = cone.V, cone.F"
   ]
  },
  {
   "cell_type": "code",
   "execution_count": null,
   "id": "72faf1b8",
   "metadata": {},
   "outputs": [],
   "source": [
    "import polyscope as ps\n",
    "\n",
    "ps.init()\n",
    "ps.set_ground_plane_mode(\"none\")\n",
    "\n",
    "ps.register_surface_mesh(\"GT\", V_gt, F_gt)\n",
    "ps.register_surface_mesh(\"RFTA\", *R)\n",
    "ps.register_surface_mesh(\"LC\", *R_lc)\n",
    "\n",
    "ps.show()"
   ]
  }
 ],
 "metadata": {
  "kernelspec": {
   "display_name": "Blender",
   "language": "python",
   "name": "blender"
  },
  "language_info": {
   "codemirror_mode": {
    "name": "ipython",
    "version": 3
   },
   "file_extension": ".py",
   "mimetype": "text/x-python",
   "name": "python",
   "nbconvert_exporter": "python",
   "pygments_lexer": "ipython3",
   "version": "3.11.7"
  }
 },
 "nbformat": 4,
 "nbformat_minor": 5
}
