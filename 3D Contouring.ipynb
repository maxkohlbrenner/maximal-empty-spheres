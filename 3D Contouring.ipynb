{
 "cells": [
  {
   "cell_type": "markdown",
   "id": "09fee4d6",
   "metadata": {},
   "source": [
    "# 3D Contouring: Example\n",
    "\n",
    "This is a simple notebook that shows the usage of the maximal empty spheres contouring as implemented in the  `LieConeSDFReconstruction` class in `lie_cone.py`.\n",
    "\n",
    "In case the CGAL version was compiled as well (see instructions in its Readme.md), this notebook also includes an example how to use it.\n",
    "\n",
    "A discrete set of signed distance function (SDF) values is sampled based on a ground truth mesh. \n",
    "The reconstructions for our empty spheres approach is shown along side [\"Reach for the Arcs\" (RFTA, Sellán et al. 2024)](https://dl.acm.org/doi/abs/10.1145/3641519.3657419)."
   ]
  },
  {
   "cell_type": "markdown",
   "id": "945a34cd",
   "metadata": {},
   "source": [
    "Download and use the Armadillo mesh as ground truth. \n",
    "This is only an example, feel free to set `mesh_path` to a different `.obj` file.  "
   ]
  },
  {
   "cell_type": "code",
   "execution_count": 9,
   "id": "fbc4cc27",
   "metadata": {},
   "outputs": [
    {
     "name": "stdout",
     "output_type": "stream",
     "text": [
      "Found .obj file\n"
     ]
    }
   ],
   "source": [
    "import os\n",
    "# Download the Armadillo from github\n",
    "mesh_path = \"armadillo.obj\"\n",
    "if not os.path.exists(mesh_path) and mesh_path == \"armadillo.obj\":\n",
    "    import wget\n",
    "    url = 'https://raw.githubusercontent.com/alecjacobson/common-3d-test-models/refs/heads/master/data/armadillo.obj'\n",
    "    filename = wget.download(url)\n",
    "    print()\n",
    "    print(filename)\n",
    "else:\n",
    "    print(\"Found .obj file\")"
   ]
  },
  {
   "cell_type": "markdown",
   "id": "a2d1388b",
   "metadata": {},
   "source": [
    "Sample SDF values on a regular grid. Note that the bounding box is chosen slightly larger than the object."
   ]
  },
  {
   "cell_type": "code",
   "execution_count": 10,
   "id": "7fbc7360",
   "metadata": {},
   "outputs": [],
   "source": [
    "import numpy as np\n",
    "\n",
    "def sample_positions(n, random_sampling, sdf):\n",
    "    if random_sampling:\n",
    "        U = (np.random.rand(n*n*n, 3)-0.5)*2\n",
    "    else:\n",
    "        gx, gy, gz = np.meshgrid(np.linspace(-1.0, 1.0, n+1), np.linspace(-1.0, 1.0, n+1), np.linspace(-1.0, 1.0, n+1))\n",
    "        U = np.vstack((gx.flatten(), gy.flatten(), gz.flatten())).T\n",
    "    U_sdfvals = sdf(U)\n",
    "    return U, U_sdfvals\n",
    "\n",
    "import gpytoolbox as gpy\n",
    "\n",
    "# Set up gt\n",
    "V_gt, F_gt = gpy.read_mesh(mesh_path)\n",
    "V_gt = gpy.normalize_points(V_gt)\n",
    "\n",
    "s = 0.9 # 0.75\n",
    "V_gt *= s/0.5\n",
    "\n",
    "# Create and abstract SDF function that is the only connection to the shape\n",
    "sdf = lambda x: gpy.signed_distance(x, V_gt, F_gt)[0]"
   ]
  },
  {
   "cell_type": "code",
   "execution_count": 12,
   "id": "8800d5ee",
   "metadata": {},
   "outputs": [],
   "source": [
    "# number of samples per dimensions\n",
    "n = 20\n",
    "\n",
    "# Sample SDF values on a regular grid\n",
    "U, U_sdfvals = sample_positions(n,False,sdf)\n",
    "\n",
    "# all methods use the Screened Poisson Surface Reconstruction (sPSR) implementation as made available in the gpytoolbox  \n",
    "# setting the screening weight a bit lower can help avoid screening artifacts\n",
    "psr_screening_weight = 1."
   ]
  },
  {
   "cell_type": "markdown",
   "id": "53da9986",
   "metadata": {},
   "source": [
    "### RFTA"
   ]
  },
  {
   "cell_type": "code",
   "execution_count": 13,
   "id": "43a33e4a",
   "metadata": {},
   "outputs": [
    {
     "name": "stdout",
     "output_type": "stream",
     "text": [
      "RFTA (parallel): 5.7843828201293945s\n"
     ]
    }
   ],
   "source": [
    "import time\n",
    "\n",
    "# RFTA\n",
    "strt = time.time()\n",
    "R = gpy.reach_for_the_arcs(U, U_sdfvals,parallel=True,screening_weight=psr_screening_weight)\n",
    "stp  = time.time()\n",
    "print(f\"RFTA (parallel): {stp-strt}s\")"
   ]
  },
  {
   "cell_type": "markdown",
   "id": "87ef886c",
   "metadata": {},
   "source": [
    "### Maximal Empty Spheres (Python)"
   ]
  },
  {
   "cell_type": "code",
   "execution_count": 14,
   "id": "2dea41b3",
   "metadata": {
    "scrolled": true
   },
   "outputs": [
    {
     "name": "stdout",
     "output_type": "stream",
     "text": [
      "Run cone construction(s)\n",
      "☠️ Only consider edges connecting two full simplices ☠️\n",
      "(106865, 6) (6, 6) (6, 6)\n"
     ]
    },
    {
     "name": "stderr",
     "output_type": "stream",
     "text": [
      "/home/kohlbrenner/projects/maximal_empty_spheres/maximal-empty-spheres/lie_geometry/lie_geometry.py:66: RuntimeWarning: invalid value encountered in sqrt\n",
      "  l1 = (-b-np.sqrt(delta)) / (2*a)\n",
      "/home/kohlbrenner/projects/maximal_empty_spheres/maximal-empty-spheres/lie_geometry/lie_geometry.py:66: RuntimeWarning: divide by zero encountered in divide\n",
      "  l1 = (-b-np.sqrt(delta)) / (2*a)\n",
      "/home/kohlbrenner/projects/maximal_empty_spheres/maximal-empty-spheres/lie_geometry/lie_geometry.py:66: RuntimeWarning: invalid value encountered in divide\n",
      "  l1 = (-b-np.sqrt(delta)) / (2*a)\n",
      "/home/kohlbrenner/projects/maximal_empty_spheres/maximal-empty-spheres/lie_geometry/lie_geometry.py:67: RuntimeWarning: invalid value encountered in sqrt\n",
      "  l2 = (-b+np.sqrt(delta)) / (2*a)\n",
      "/home/kohlbrenner/projects/maximal_empty_spheres/maximal-empty-spheres/lie_geometry/lie_geometry.py:67: RuntimeWarning: divide by zero encountered in divide\n",
      "  l2 = (-b+np.sqrt(delta)) / (2*a)\n",
      "/home/kohlbrenner/projects/maximal_empty_spheres/maximal-empty-spheres/lie_geometry/lie_geometry.py:67: RuntimeWarning: invalid value encountered in divide\n",
      "  l2 = (-b+np.sqrt(delta)) / (2*a)\n"
     ]
    },
    {
     "name": "stdout",
     "output_type": "stream",
     "text": [
      "☠️ Only consider edges connecting two full simplices ☠️\n",
      "Extract closest points\n",
      "Run PSR\n",
      "Empty spheres rec: 4.441075325012207s\n"
     ]
    }
   ],
   "source": [
    "from lie_cone import LieConeSDFReconstruction\n",
    "\n",
    "strt = time.time()\n",
    "cone = LieConeSDFReconstruction(np.concatenate([U,U_sdfvals[:,None]],axis=1),\n",
    "                                    filter_type=3,cut_bbx_factor=1.,filter_results=False,\n",
    "                                   psr_screening_weight=psr_screening_weight)\n",
    "\n",
    "stp  = time.time()\n",
    "print(f\"Empty spheres rec: {stp-strt}s\")\n",
    "\n",
    "R_lc = cone.V, cone.F"
   ]
  },
  {
   "cell_type": "markdown",
   "id": "34b8f988",
   "metadata": {},
   "source": [
    "### Maximal Empty Spheres (cpp, experimental)\n",
    "\n",
    "This part of the codes requires the binary for the cpp version. See the `cgal/` folder for instructions on how to compile it.\n",
    "\n",
    "Note that this uses code that is still under development."
   ]
  },
  {
   "cell_type": "code",
   "execution_count": 15,
   "id": "7881bb82",
   "metadata": {},
   "outputs": [
    {
     "name": "stdout",
     "output_type": "stream",
     "text": [
      "Found cgal executable\n",
      "Read 9261 spheres\n",
      "Computed 7482 contact points with normals in 2.20281 sec.\n"
     ]
    }
   ],
   "source": [
    "LC_cgal_available=False\n",
    "cgalbinpath = \"./cgal/build/empty_spheres_reconstruction\"\n",
    "if os.path.exists(cgalbinpath):\n",
    "    print(\"Found cgal executable\")\n",
    "    gridpath = \"./cgal/tmp.csv\"\n",
    "    np.savetxt(gridpath, np.concatenate([U,U_sdfvals[:,None]],axis=1), delimiter=\",\")\n",
    "    \n",
    "    !{cgalbinpath} {gridpath}\n",
    "    cgal_pwns = np.genfromtxt('./pwn.csv', delimiter=',')\n",
    "    R_cgal = gpy.point_cloud_to_mesh(cgal_pwns[:,:3],cgal_pwns[:,3:],psr_screening_weight=psr_screening_weight)\n",
    "    LC_cgal_available=True"
   ]
  },
  {
   "cell_type": "markdown",
   "id": "cc38656a",
   "metadata": {},
   "source": [
    "## Visualize the results using polyscope"
   ]
  },
  {
   "cell_type": "code",
   "execution_count": 16,
   "id": "c1114ae5",
   "metadata": {},
   "outputs": [],
   "source": [
    "from matplotlib.colors import to_rgb\n",
    "wong_colors = [\"#000000\", \"#E69F00\", \"#56B4E9\", \"#009E73\", \"#F0E442\", \"#0072B2\", \"#D55E00\", \"#CC79A7\"]\n",
    "method_colors = {\"CP\" : to_rgb(wong_colors[1]), \n",
    "                \"RFTA\": to_rgb(wong_colors[2]),\n",
    "                \"MC\"  : to_rgb(wong_colors[3])}"
   ]
  },
  {
   "cell_type": "code",
   "execution_count": null,
   "id": "45148b2f",
   "metadata": {},
   "outputs": [],
   "source": [
    "import polyscope as ps\n",
    "\n",
    "ps.init()\n",
    "ps.set_ground_plane_mode(\"none\")\n",
    "\n",
    "ps.register_surface_mesh(\"GT\", V_gt, F_gt,color=to_rgb(\"tab:gray\"))\n",
    "ps.register_surface_mesh(\"RFTA\", *R,color=method_colors[\"RFTA\"])\n",
    "ps.register_surface_mesh(\"LC\", *R_lc,color=method_colors[\"CP\"])\n",
    "\n",
    "if LC_cgal_available:\n",
    "    ps.register_surface_mesh(\"LC_cgal\", *R_cgal, color=method_colors[\"CP\"])\n",
    "\n",
    "ps.show()"
   ]
  },
  {
   "cell_type": "markdown",
   "id": "f1278a05",
   "metadata": {},
   "source": [
    "# Timing:"
   ]
  },
  {
   "cell_type": "code",
   "execution_count": 17,
   "id": "9d9f43c5",
   "metadata": {},
   "outputs": [],
   "source": [
    "# number of samples per dimensions\n",
    "ns = [10,20,30,40,50,60,70,80,90,100]\n",
    "\n",
    "\n",
    "timings         = {\"RFTA\":[], \"MES\":[]}\n",
    "reconstructions = {\"RFTA\":[], \"MES\":[]}\n",
    "Rs = []"
   ]
  },
  {
   "cell_type": "code",
   "execution_count": 19,
   "id": "9aa93305",
   "metadata": {},
   "outputs": [
    {
     "name": "stdout",
     "output_type": "stream",
     "text": [
      "N = 10\n",
      "Read 1331 spheres\n",
      "Computed 1271 contact points with normals in 0.27185 sec.\n",
      "    MES (CGAL): 0.848879337310791s\n",
      "{'RFTA': [], 'MES': [0.848879337310791]}\n",
      "N = 20\n",
      "Read 9261 spheres\n",
      "Computed 7482 contact points with normals in 2.21632 sec.\n",
      "    MES (CGAL): 3.2795510292053223s\n",
      "{'RFTA': [], 'MES': [0.848879337310791, 3.2795510292053223]}\n",
      "N = 30\n",
      "Read 29791 spheres\n",
      "Computed 20336 contact points with normals in 8.15155 sec.\n",
      "    MES (CGAL): 10.110512256622314s\n",
      "{'RFTA': [], 'MES': [0.848879337310791, 3.2795510292053223, 10.110512256622314]}\n",
      "N = 40\n",
      "Read 68921 spheres\n",
      "Computed 40216 contact points with normals in 24.6115 sec.\n",
      "    MES (CGAL): 27.87571907043457s\n",
      "{'RFTA': [], 'MES': [0.848879337310791, 3.2795510292053223, 10.110512256622314, 27.87571907043457]}\n",
      "N = 50\n",
      "Read 132651 spheres\n",
      "Computed 68758 contact points with normals in 62.2367 sec.\n",
      "    MES (CGAL): 67.24013662338257s\n",
      "{'RFTA': [], 'MES': [0.848879337310791, 3.2795510292053223, 10.110512256622314, 27.87571907043457, 67.24013662338257]}\n",
      "N = 60\n",
      "Read 226981 spheres\n",
      "Computed 106978 contact points with normals in 134.402 sec.\n",
      "    MES (CGAL): 141.72862195968628s\n",
      "{'RFTA': [], 'MES': [0.848879337310791, 3.2795510292053223, 10.110512256622314, 27.87571907043457, 67.24013662338257, 141.72862195968628]}\n",
      "N = 70\n",
      "Read 357911 spheres\n",
      "Computed 156250 contact points with normals in 285.649 sec.\n",
      "    MES (CGAL): 295.8948426246643s\n",
      "{'RFTA': [], 'MES': [0.848879337310791, 3.2795510292053223, 10.110512256622314, 27.87571907043457, 67.24013662338257, 141.72862195968628, 295.8948426246643]}\n",
      "N = 80\n",
      "Read 531441 spheres\n",
      "    MES (CGAL): 130.85858631134033s\n",
      "{'RFTA': [], 'MES': [0.848879337310791, 3.2795510292053223, 10.110512256622314, 27.87571907043457, 67.24013662338257, 141.72862195968628, 295.8948426246643, 130.85858631134033]}\n",
      "N = 90\n",
      "Read 753571 spheres\n",
      "    MES (CGAL): 181.87808632850647s\n",
      "{'RFTA': [], 'MES': [0.848879337310791, 3.2795510292053223, 10.110512256622314, 27.87571907043457, 67.24013662338257, 141.72862195968628, 295.8948426246643, 130.85858631134033, 181.87808632850647]}\n",
      "N = 100\n",
      "Read 1030301 spheres\n",
      "terminate called after throwing an instance of 'std::bad_alloc'\n",
      "  what():  std::bad_alloc\n",
      "    MES (CGAL): 250.306636095047s\n",
      "{'RFTA': [], 'MES': [0.848879337310791, 3.2795510292053223, 10.110512256622314, 27.87571907043457, 67.24013662338257, 141.72862195968628, 295.8948426246643, 130.85858631134033, 181.87808632850647, 250.306636095047]}\n"
     ]
    }
   ],
   "source": [
    "for i,n in enumerate(ns):\n",
    "    print(f\"N = {n}\")\n",
    "    U, U_sdfvals = sample_positions(n,False,sdf)\n",
    "    \n",
    "    #strt = time.time()\n",
    "    #R = gpy.reach_for_the_arcs(U, U_sdfvals,parallel=True,screening_weight=psr_screening_weight)\n",
    "    #stp  = time.time()\n",
    "    #print(f\"    RFTA (parallel): {stp-strt}s\")\n",
    "    #timings[\"RFTA\"].append(stp-strt)\n",
    "    \n",
    "    strt = time.time()\n",
    "    np.savetxt(gridpath, np.concatenate([U,U_sdfvals[:,None]],axis=1), delimiter=\",\")\n",
    "    !{cgalbinpath} {gridpath}\n",
    "    cgal_pwns = np.genfromtxt('./pwn.csv', delimiter=',')\n",
    "    R_cgal = gpy.point_cloud_to_mesh(cgal_pwns[:,:3],cgal_pwns[:,3:],psr_screening_weight=psr_screening_weight)\n",
    "    stp  = time.time()\n",
    "    print(f\"    MES (CGAL): {stp-strt}s\")\n",
    "    reconstructions[\"MES\"].append(R_cgal)\n",
    "    timings[\"MES\"].append(stp-strt)\n",
    "\n",
    "    \n",
    "    Rs.append([R,R_cgal])\n",
    "    \n",
    "    print(timings)"
   ]
  },
  {
   "cell_type": "code",
   "execution_count": 20,
   "id": "26c783cb",
   "metadata": {},
   "outputs": [
    {
     "data": {
      "image/png": "[encoded data removed]",
      "text/plain": [
       "<Figure size 640x480 with 1 Axes>"
      ]
     },
     "metadata": {},
     "output_type": "display_data"
    }
   ],
   "source": [
    "import matplotlib.pyplot as plt\n",
    "plt.rcParams['text.usetex'] = True\n",
    "#plt.plot(ns, timings[\"RFTA\"],label=\"RFTA\")\n",
    "plt.plot(ns,timings[\"MES\"], label=\"MES\")\n",
    "plt.legend()\n",
    "plt.xlabel(r\"$\\sqrt[3]{(N)}$\")\n",
    "plt.ylabel(\"T (in s)\")\n",
    "plt.show()"
   ]
  },
  {
   "cell_type": "code",
   "execution_count": null,
   "id": "66a51be1",
   "metadata": {},
   "outputs": [],
   "source": [
    "import polyscope as ps\n",
    "ps.init()\n",
    "ps.set_ground_plane_mode(\"none\")\n",
    "\n",
    "ps.register_surface_mesh(\"GT\", V_gt, F_gt,color=to_rgb(\"tab:gray\"),enabled=False)\n",
    "\n",
    "for i,n in enumerate(ns):\n",
    "    ps.register_surface_mesh(f\"RFTA_{n}\",    *Rs[i][0],color=method_colors[\"RFTA\"],enabled=False)\n",
    "    ps.register_surface_mesh(f\"LC_cgal_{n}\", *Rs[i][1], color=method_colors[\"CP\"], enabled=False)\n",
    "\n",
    "ps.show()"
   ]
  }
 ],
 "metadata": {
  "kernelspec": {
   "display_name": "Python 3 (ipykernel)",
   "language": "python",
   "name": "python3"
  },
  "language_info": {
   "codemirror_mode": {
    "name": "ipython",
    "version": 3
   },
   "file_extension": ".py",
   "mimetype": "text/x-python",
   "name": "python",
   "nbconvert_exporter": "python",
   "pygments_lexer": "ipython3",
   "version": "3.10.12"
  }
 },
 "nbformat": 4,
 "nbformat_minor": 5
}
