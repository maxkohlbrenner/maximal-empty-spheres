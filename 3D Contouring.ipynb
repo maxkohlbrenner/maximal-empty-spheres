{
 "cells": [
  {
   "cell_type": "markdown",
   "id": "09fee4d6",
   "metadata": {},
   "source": [
    "# 3D Contouring: Example\n",
    "\n",
    "This is a simple notebook that shows the usage of the maximal empty spheres contouring as implemented in the  `LieConeSDFReconstruction` class in `lie_cone.py`.\n",
    "\n",
    "In case the CGAL version was compiled as well (see instructions in its Readme.md), this notebook also includes an example how to use it.\n",
    "\n",
    "A discrete set of signed distance function (SDF) values is sampled based on a ground truth mesh. \n",
    "The reconstructions for our empty spheres approach is shown along side [\"Reach for the Arcs\" (RFTA, Sellán et al. 2024)](https://dl.acm.org/doi/abs/10.1145/3641519.3657419)."
   ]
  },
  {
   "cell_type": "markdown",
   "id": "945a34cd",
   "metadata": {},
   "source": [
    "Download and use the Armadillo mesh as ground truth. \n",
    "This is only an example, feel free to set `mesh_path` to a different `.obj` file.  "
   ]
  },
  {
   "cell_type": "code",
   "execution_count": null,
   "id": "fbc4cc27",
   "metadata": {},
   "outputs": [],
   "source": [
    "%load_ext autoreload\n",
    "%autoreload 2\n",
    "\n",
    "import os\n",
    "# Download the Armadillo from github\n",
    "mesh_path = \"armadillo.obj\"\n",
    "if not os.path.exists(mesh_path) and mesh_path == \"armadillo.obj\":\n",
    "    import wget\n",
    "    url = 'https://raw.githubusercontent.com/alecjacobson/common-3d-test-models/refs/heads/master/data/armadillo.obj'\n",
    "    filename = wget.download(url)\n",
    "    print()\n",
    "    print(filename)\n",
    "else:\n",
    "    print(\"Found .obj file\")"
   ]
  },
  {
   "cell_type": "markdown",
   "id": "a2d1388b",
   "metadata": {},
   "source": [
    "Sample SDF values on a regular grid. Note that the bounding box is chosen slightly larger than the object."
   ]
  },
  {
   "cell_type": "code",
   "execution_count": null,
   "id": "7fbc7360",
   "metadata": {},
   "outputs": [],
   "source": [
    "import numpy as np\n",
    "\n",
    "def sample_positions(n, random_sampling, sdf):\n",
    "    if random_sampling:\n",
    "        U = (np.random.rand(n*n*n, 3)-0.5)*2\n",
    "    else:\n",
    "        gx, gy, gz = np.meshgrid(np.linspace(-1.0, 1.0, n+1), np.linspace(-1.0, 1.0, n+1), np.linspace(-1.0, 1.0, n+1))\n",
    "        U = np.vstack((gx.flatten(), gy.flatten(), gz.flatten())).T\n",
    "    U_sdfvals = sdf(U)\n",
    "    return U, U_sdfvals\n",
    "\n",
    "import gpytoolbox as gpy\n",
    "\n",
    "# Set up gt\n",
    "V_gt, F_gt = gpy.read_mesh(mesh_path)\n",
    "V_gt = gpy.normalize_points(V_gt)\n",
    "\n",
    "s = 0.9 # 0.75\n",
    "V_gt *= s/0.5\n",
    "\n",
    "# Create and abstract SDF function that is the only connection to the shape\n",
    "sdf = lambda x: gpy.signed_distance(x, V_gt, F_gt)[0]"
   ]
  },
  {
   "cell_type": "code",
   "execution_count": null,
   "id": "8800d5ee",
   "metadata": {},
   "outputs": [],
   "source": [
    "# number of samples per dimensions\n",
    "n = 30\n",
    "\n",
    "# Sample SDF values on a regular grid\n",
    "U, U_sdfvals = sample_positions(n,False,sdf)\n",
    "\n",
    "# all methods use the Screened Poisson Surface Reconstruction (sPSR) implementation as made available in the gpytoolbox  \n",
    "# setting the screening weight a bit lower can help avoid screening artifacts\n",
    "psr_screening_weight = 1."
   ]
  },
  {
   "cell_type": "markdown",
   "id": "53da9986",
   "metadata": {},
   "source": [
    "### RFTA"
   ]
  },
  {
   "cell_type": "code",
   "execution_count": null,
   "id": "43a33e4a",
   "metadata": {},
   "outputs": [],
   "source": [
    "import time\n",
    "\n",
    "# RFTA\n",
    "strt = time.time()\n",
    "R = gpy.reach_for_the_arcs(U, U_sdfvals,parallel=True,screening_weight=psr_screening_weight)\n",
    "stp  = time.time()\n",
    "print(f\"RFTA (parallel): {stp-strt}s\")"
   ]
  },
  {
   "cell_type": "markdown",
   "id": "87ef886c",
   "metadata": {},
   "source": [
    "### Maximal Empty Spheres (Python)"
   ]
  },
  {
   "cell_type": "code",
   "execution_count": null,
   "id": "2dea41b3",
   "metadata": {
    "scrolled": true
   },
   "outputs": [],
   "source": [
    "from lie_cone import LieConeSDFReconstruction\n",
    "\n",
    "strt = time.time()\n",
    "cone = LieConeSDFReconstruction(np.concatenate([U,U_sdfvals[:,None]],axis=1),\n",
    "                                    filter_type=3,cut_bbx_factor=1.,filter_results=False,\n",
    "                                   psr_screening_weight=psr_screening_weight)\n",
    "\n",
    "stp  = time.time()\n",
    "print(f\"Empty spheres rec: {stp-strt}s\")\n",
    "\n",
    "R_lc = cone.V, cone.F"
   ]
  },
  {
   "cell_type": "markdown",
   "id": "34b8f988",
   "metadata": {},
   "source": [
    "### Maximal Empty Spheres (cpp, experimental)\n",
    "\n",
    "This part of the codes requires the binary for the cpp version. See the `cgal/` folder for instructions on how to compile it.\n",
    "\n",
    "Note that this uses code that is still under development."
   ]
  },
  {
   "cell_type": "code",
   "execution_count": null,
   "id": "7881bb82",
   "metadata": {},
   "outputs": [],
   "source": [
    "LC_cgal_available=False\n",
    "from cgal.EmptySpheresReconstruction import MESReconstruction\n",
    "R_cgal = MESReconstruction(U,U_sdfvals,screening_weight=psr_screening_weight)\n",
    "if R_cgal:\n",
    "    LC_cgal_available=True"
   ]
  },
  {
   "cell_type": "markdown",
   "id": "cc38656a",
   "metadata": {},
   "source": [
    "## Visualize the results using polyscope"
   ]
  },
  {
   "cell_type": "code",
   "execution_count": null,
   "id": "c1114ae5",
   "metadata": {},
   "outputs": [],
   "source": [
    "from matplotlib.colors import to_rgb\n",
    "wong_colors = [\"#000000\", \"#E69F00\", \"#56B4E9\", \"#009E73\", \"#F0E442\", \"#0072B2\", \"#D55E00\", \"#CC79A7\"]\n",
    "method_colors = {\"CP\" : to_rgb(wong_colors[1]), \n",
    "                \"RFTA\": to_rgb(wong_colors[2]),\n",
    "                \"MC\"  : to_rgb(wong_colors[3])}"
   ]
  },
  {
   "cell_type": "code",
   "execution_count": null,
   "id": "45148b2f",
   "metadata": {},
   "outputs": [],
   "source": [
    "import polyscope as ps\n",
    "\n",
    "ps.init()\n",
    "ps.set_ground_plane_mode(\"none\")\n",
    "\n",
    "ps.register_surface_mesh(\"GT\", V_gt, F_gt,color=to_rgb(\"tab:gray\"))\n",
    "ps.register_surface_mesh(\"RFTA\", *R,color=method_colors[\"RFTA\"])\n",
    "ps.register_surface_mesh(\"LC\", *R_lc,color=method_colors[\"CP\"])\n",
    "\n",
    "if LC_cgal_available:\n",
    "    ps.register_surface_mesh(\"LC_cgal\", *R_cgal, color=method_colors[\"CP\"])\n",
    "\n",
    "ps.show()"
   ]
  }
 ],
 "metadata": {
  "kernelspec": {
   "display_name": "Python 3 (ipykernel)",
   "language": "python",
   "name": "python3"
  },
  "language_info": {
   "codemirror_mode": {
    "name": "ipython",
    "version": 3
   },
   "file_extension": ".py",
   "mimetype": "text/x-python",
   "name": "python",
   "nbconvert_exporter": "python",
   "pygments_lexer": "ipython3",
   "version": "3.10.12"
  }
 },
 "nbformat": 4,
 "nbformat_minor": 5
}
